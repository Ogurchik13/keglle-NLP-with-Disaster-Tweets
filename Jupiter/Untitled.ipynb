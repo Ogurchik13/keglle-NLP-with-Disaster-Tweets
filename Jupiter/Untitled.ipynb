{
 "cells": [
  {
   "cell_type": "code",
   "execution_count": 6,
   "id": "787e5962-6540-4053-a34c-19ce99344997",
   "metadata": {},
   "outputs": [],
   "source": [
    "import pandas as pd\n",
    "import os"
   ]
  },
  {
   "cell_type": "code",
   "execution_count": 10,
   "id": "fb661dcb-68ae-48a9-a131-9279ff099bb1",
   "metadata": {},
   "outputs": [
    {
     "name": "stdout",
     "output_type": "stream",
     "text": [
      "C:\\Users\\BoyNextDoor\\Desktop\\Проекты\\kaggle\\Natural Language Processing with Disaster Tweets\\Jupiter\n"
     ]
    }
   ],
   "source": [
    "print(os.getcwd())"
   ]
  },
  {
   "cell_type": "code",
   "execution_count": 21,
   "id": "5d33cfe6-a70c-48d1-8054-7a33562ad79e",
   "metadata": {
    "tags": []
   },
   "outputs": [],
   "source": [
    "train_df = pd.read_csv(r\"C:\\Users\\BoyNextDoor\\Desktop\\Проекты\\kaggle\\Natural Language Processing with Disaster Tweets\\test.csv\")"
   ]
  },
  {
   "cell_type": "code",
   "execution_count": 59,
   "id": "924592e7-ebb5-4812-9465-41286d19b59e",
   "metadata": {},
   "outputs": [
    {
     "name": "stdout",
     "output_type": "stream",
     "text": [
      "0                      Just happened a terrible car crash\n",
      "1       Heard about #earthquake is different cities, s...\n",
      "2       there is a forest fire at spot pond, geese are...\n",
      "3                Apocalypse lighting. #Spokane #wildfires\n",
      "4           Typhoon Soudelor kills 28 in China and Taiwan\n",
      "                              ...                        \n",
      "3258    EARTHQUAKE SAFETY LOS ANGELES ÛÒ SAFETY FASTE...\n",
      "3259    Storm in RI worse than last hurricane. My city...\n",
      "3260    Green Line derailment in Chicago http://t.co/U...\n",
      "3261    MEG issues Hazardous Weather Outlook (HWO) htt...\n",
      "3262    #CityofCalgary has activated its Municipal Eme...\n",
      "Name: text, Length: 3263, dtype: object\n"
     ]
    }
   ],
   "source": [
    "print(train_df['text'])"
   ]
  }
 ],
 "metadata": {
  "kernelspec": {
   "display_name": "Python 3 (ipykernel)",
   "language": "python",
   "name": "python3"
  },
  "language_info": {
   "codemirror_mode": {
    "name": "ipython",
    "version": 3
   },
   "file_extension": ".py",
   "mimetype": "text/x-python",
   "name": "python",
   "nbconvert_exporter": "python",
   "pygments_lexer": "ipython3",
   "version": "3.9.1"
  }
 },
 "nbformat": 4,
 "nbformat_minor": 5
}
